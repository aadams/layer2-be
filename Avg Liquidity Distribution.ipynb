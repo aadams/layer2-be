{
 "cells": [
  {
   "cell_type": "code",
   "execution_count": 1,
   "id": "6e2a4188",
   "metadata": {},
   "outputs": [],
   "source": [
    "import sys\n",
    "sys.path.append(\"../v3-polars\")\n",
    "\n",
    "%load_ext autoreload\n",
    "%autoreload 2\n",
    "\n",
    "from v3 import state\n",
    "import numpy as np\n",
    "\n",
    "import polars as pl\n",
    "\n",
    "from datetime import date, timedelta, datetime, timezone\n",
    "import os\n",
    "\n",
    "from tqdm import tqdm\n",
    "import matplotlib.pyplot as plt\n",
    "import pandas as pd"
   ]
  },
  {
   "cell_type": "code",
   "execution_count": 2,
   "id": "6b988534",
   "metadata": {},
   "outputs": [],
   "source": [
    "WETH = ['0x82aF49447D8a07e3bd95BD0d56f35241523fBab1'.lower(), \n",
    "        '0xc02aaa39b223fe8d0a0e5c4f27ead9083c756cc2'.lower(),\n",
    "        '0x4200000000000000000000000000000000000006'.lower()]"
   ]
  },
  {
   "cell_type": "code",
   "execution_count": 3,
   "id": "e5ee9c23",
   "metadata": {},
   "outputs": [
    {
     "name": "stderr",
     "output_type": "stream",
     "text": [
      "PARTITIONED DS: estimated cardinality: 0.9991552 exceeded the boundary: 0.4, running default HASH AGGREGATION\n",
      "PARTITIONED DS: estimated cardinality: 1 exceeded the boundary: 0.4, running default HASH AGGREGATION\n",
      "PARTITIONED DS: estimated cardinality: 1 exceeded the boundary: 0.4, running default HASH AGGREGATION\n",
      "PARTITIONED DS: estimated cardinality: 1 exceeded the boundary: 0.4, running default HASH AGGREGATION\n",
      "PARTITIONED DS: estimated cardinality: 0.9980997 exceeded the boundary: 0.4, running default HASH AGGREGATION\n",
      "PARTITIONED DS: estimated cardinality: 1 exceeded the boundary: 0.4, running default HASH AGGREGATION\n"
     ]
    }
   ],
   "source": [
    "starting = datetime(year = 2023, month = 3, day = 1)\n",
    "\n",
    "address = '0xc31e54c7a869b9fcbecc14363cf510d1c41fa443'\n",
    "arb = state.v3Pool(address, 'arbitrum')#, update = True)\n",
    "priceArb = arb.getPriceSeries(starting, frequency = '2h', gas = True)\n",
    "\n",
    "address = '0x88e6a0c2ddd26feeb64f039a2c41296fcb3f5640'\n",
    "eth = state.v3Pool(address, 'ethereum')#, update = True)\n",
    "priceEth = eth.getPriceSeries(starting, frequency = '2h', gas = True)\n",
    "\n",
    "address = '0x85149247691df622eaf1a8bd0cafd40bc45154a9'\n",
    "op = state.v3Pool(address, 'optimism')#, update = True)\n",
    "priceOp = op.getPriceSeries(starting, frequency = '2h', gas = True)"
   ]
  },
  {
   "cell_type": "code",
   "execution_count": 4,
   "id": "2dd71b7a",
   "metadata": {},
   "outputs": [],
   "source": [
    "def getLiqByBps(bps, bn, pool, normalize = False):\n",
    "    distance = bps * 100\n",
    "    \n",
    "    try:\n",
    "        swapDf, values = pool.calcSwapDF(bn)\n",
    "    except Exception as e:\n",
    "        return pl.DataFrame()\n",
    "    \n",
    "    tick = (values[-1] // pool.ts) * pool.ts\n",
    "    \n",
    "    high, low = tick + distance, tick - distance\n",
    "\n",
    "    # i want USDC so i ask for the token \n",
    "    # that is not ETH\n",
    "    invert = False\n",
    "    if pool.token1 in WETH:\n",
    "        invert = True\n",
    "\n",
    "    if normalize:\n",
    "        col = 'tick_normalized'\n",
    "    else:\n",
    "        col = 'tick'\n",
    "        \n",
    "    dis = (swapDf\n",
    "         .filter((pl.col('tick_a') < high) &\n",
    "                      (pl.col('tick_a') >= low))\n",
    "         .with_columns(tick_normalized = pl.col('tick_a') - tick)\n",
    "         .with_columns(tick_adj = (-1 * pl.col(col) if invert else pl.col(col)))\n",
    "         .select([pl.col('tick_adj'), pl.col('liquidity')])\n",
    "        )\n",
    "   \n",
    "    return dis "
   ]
  },
  {
   "cell_type": "code",
   "execution_count": null,
   "id": "3098b0ef",
   "metadata": {},
   "outputs": [
    {
     "name": "stderr",
     "output_type": "stream",
     "text": [
      "  9%|███▎                                  | 389/4530 [07:10<1:21:57,  1.19s/it]"
     ]
    }
   ],
   "source": [
    "iterator = [*priceArb.iter_rows()] #unpack to use tqdm\n",
    "\n",
    "tgt_cnt = len(iterator) // 2 + 100\n",
    "cnt = 0\n",
    "\n",
    "arbDis = pl.DataFrame()\n",
    "ethDis = pl.DataFrame()\n",
    "opDis = pl.DataFrame()\n",
    "\n",
    "bps = 5\n",
    "missed_op = 0\n",
    "\n",
    "for (ts, l2BN, _, gas_price, gas_used) in tqdm(iterator):\n",
    "#     cnt+=1\n",
    "#     if cnt > 5_000:\n",
    "#         break\n",
    "        \n",
    "    if ts >= pd.to_datetime(\"2024-01-01\").to_pydatetime().replace(tzinfo = timezone.utc):\n",
    "        continue\n",
    "        \n",
    "    startingAmtIn = 1e6\n",
    "    ethRow = priceEth.filter(pl.col('block_timestamp') == ts)\n",
    "    opRow = priceOp.filter(pl.col('block_timestamp') == ts)\n",
    "    \n",
    "    if opRow.is_empty():\n",
    "        missed_op+=1\n",
    "        continue\n",
    "    \n",
    "    # -- arbitrum\n",
    "    dis = getLiqByBps(bps, l2BN, arb, normalize = True)\n",
    "    if dis.is_empty():\n",
    "        continue\n",
    "        \n",
    "    # normalize\n",
    "    dis = (dis\n",
    "           .with_columns(liquidity = 100 * (pl.col('liquidity') - pl.col('liquidity').min()) / \n",
    "                                  (pl.col('liquidity').max() - pl.col('liquidity').min())\n",
    "                        )\n",
    "          )\n",
    "    \n",
    "    if arbDis.is_empty():\n",
    "        arbDis = dis\n",
    "    else:\n",
    "        arbDis.extend(dis)\n",
    "        \n",
    "    # -- op\n",
    "    dis = getLiqByBps(bps, opRow['block_number'].item(), op, normalize = True)\n",
    "    if dis.is_empty():\n",
    "        continue\n",
    "        \n",
    "    dis = (dis\n",
    "           .with_columns(liquidity = 100 * (pl.col('liquidity') - pl.col('liquidity').min()) / \n",
    "                                  (pl.col('liquidity').max() - pl.col('liquidity').min())\n",
    "                        )\n",
    "          )\n",
    "    if opDis.is_empty():\n",
    "        opDis = dis\n",
    "    else:\n",
    "        opDis.extend(dis)\n",
    "    \n",
    "    # -- eth\n",
    "    dis = getLiqByBps(bps, ethRow['block_number'].item(), eth, normalize = True)\n",
    "    if dis.is_empty():\n",
    "        continue\n",
    "        \n",
    "    dis = (dis\n",
    "           .with_columns(liquidity = 100 * (pl.col('liquidity') - pl.col('liquidity').min()) / \n",
    "                                  (pl.col('liquidity').max() - pl.col('liquidity').min())\n",
    "                        )\n",
    "          )\n",
    "    if ethDis.is_empty():\n",
    "        ethDis = dis\n",
    "    else:\n",
    "        ethDis.extend(dis)"
   ]
  },
  {
   "cell_type": "code",
   "execution_count": null,
   "id": "225b7cb9",
   "metadata": {},
   "outputs": [],
   "source": [
    "# save data to use in R\n",
    "arbDis.write_csv(\"graphs/data/arb.csv\")\n",
    "ethDis.write_csv(\"graphs/data/eth.csv\")\n",
    "opDis.write_csv(\"graphs/data/op.csv\")"
   ]
  },
  {
   "cell_type": "code",
   "execution_count": null,
   "id": "3e292a97",
   "metadata": {},
   "outputs": [],
   "source": [
    "# sample plot to make sure things work\n",
    "fig, ax = plt.subplots()\n",
    "\n",
    "data = arbDis.group_by('tick_adj').agg(pl.col('liquidity').quantile(.5)).sort(pl.col(\"tick_adj\"))\n",
    "ax.plot(100 * (1.0001 ** data['tick_adj'] - 1), data['liquidity'], label = 'Arbitrum', color = 'dodgerblue')\n",
    "\n",
    "data = ethDis.group_by('tick_adj').agg(pl.col('liquidity').quantile(.5)).sort(pl.col(\"tick_adj\"))\n",
    "ax.plot(100 * (1.0001 ** data['tick_adj'] - 1), data['liquidity'], label = 'Ethereum', color = 'forestgreen')\n",
    "\n",
    "data = opDis.group_by('tick_adj').agg(pl.col('liquidity').quantile(.5)).sort(pl.col(\"tick_adj\"))\n",
    "ax.plot(100 * (1.0001 ** data['tick_adj'] - 1), data['liquidity'], label = 'Optimism', color = 'firebrick')\n",
    "\n",
    "ax.set_ylabel(\"Median Normalized Concentration\")\n",
    "ax.set_xlabel(\"Percent away from mid\")\n",
    "ax.legend()\n",
    "\n",
    "fig.savefig(\"avg_liq_concentration.png\")"
   ]
  },
  {
   "cell_type": "code",
   "execution_count": null,
   "id": "1f765b79",
   "metadata": {},
   "outputs": [],
   "source": []
  }
 ],
 "metadata": {
  "kernelspec": {
   "display_name": "Python 3 (ipykernel)",
   "language": "python",
   "name": "python3"
  },
  "language_info": {
   "codemirror_mode": {
    "name": "ipython",
    "version": 3
   },
   "file_extension": ".py",
   "mimetype": "text/x-python",
   "name": "python",
   "nbconvert_exporter": "python",
   "pygments_lexer": "ipython3",
   "version": "3.11.4"
  }
 },
 "nbformat": 4,
 "nbformat_minor": 5
}
