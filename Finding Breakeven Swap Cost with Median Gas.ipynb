{
 "cells": [
  {
   "cell_type": "code",
   "execution_count": 6,
   "id": "0b9a2d90",
   "metadata": {},
   "outputs": [
    {
     "name": "stdout",
     "output_type": "stream",
     "text": [
      "The autoreload extension is already loaded. To reload it, use:\n",
      "  %reload_ext autoreload\n"
     ]
    }
   ],
   "source": [
    "import sys\n",
    "sys.path.append(\"../v3-polars\")\n",
    "\n",
    "%load_ext autoreload\n",
    "%autoreload 2\n",
    "\n",
    "from v3 import state\n",
    "import numpy as np\n",
    "\n",
    "import polars as pl\n",
    "\n",
    "from datetime import date, timedelta, datetime, timezone\n",
    "import math\n",
    "import os\n",
    "\n",
    "from tqdm import tqdm\n",
    "import matplotlib.pyplot as plt\n",
    "import matplotlib.dates as mdates\n",
    "import pandas as pd"
   ]
  },
  {
   "cell_type": "code",
   "execution_count": 7,
   "id": "7811dc54",
   "metadata": {},
   "outputs": [],
   "source": [
    "WETH = ['0x82aF49447D8a07e3bd95BD0d56f35241523fBab1'.lower(), \n",
    "        '0xc02aaa39b223fe8d0a0e5c4f27ead9083c756cc2'.lower()]"
   ]
  },
  {
   "cell_type": "code",
   "execution_count": 8,
   "id": "2c039f5d",
   "metadata": {
    "scrolled": true
   },
   "outputs": [
    {
     "name": "stderr",
     "output_type": "stream",
     "text": [
      "PARTITIONED DS: estimated cardinality: 0.9995722 exceeded the boundary: 0.4, running default HASH AGGREGATION\n",
      "PARTITIONED DS: estimated cardinality: 0.9964276 exceeded the boundary: 0.4, running default HASH AGGREGATION\n",
      "PARTITIONED DS: estimated cardinality: 0.9987539 exceeded the boundary: 0.4, running default HASH AGGREGATION\n",
      "PARTITIONED DS: estimated cardinality: 1 exceeded the boundary: 0.4, running default HASH AGGREGATION\n"
     ]
    }
   ],
   "source": [
    "starting = datetime(year = 2023, month = 3, day = 1)\n",
    "ending = datetime(year = 2024, month = 1, day = 1)\n",
    "\n",
    "address = '0xc31e54c7a869b9fcbecc14363cf510d1c41fa443'\n",
    "arb = state.v3Pool(address, 'arbitrum')#, update = True)\n",
    "priceArb = arb.getPriceSeries(starting, frequency = '15m', gas = True)\n",
    "\n",
    "address = '0x88e6a0c2ddd26feeb64f039a2c41296fcb3f5640'\n",
    "eth = state.v3Pool(address, 'ethereum')#, update = True)\n",
    "priceEth = eth.getPriceSeries(starting, frequency = '15m', gas = True)\n"
   ]
  },
  {
   "cell_type": "code",
   "execution_count": 20,
   "id": "f0ee70e4",
   "metadata": {},
   "outputs": [],
   "source": [
    "def tokenNotWETH(pool, WETH):\n",
    "    if pool.token0 in WETH:\n",
    "        USDC = pool.token1\n",
    "    elif pool.token1 in WETH:\n",
    "        USDC = pool.token0\n",
    "    else:\n",
    "        raise ValueError(\"Token missing from WETH array\")\n",
    "        \n",
    "    return USDC\n",
    "\n",
    "def verbose_print(string, verbose):\n",
    "    if verbose:\n",
    "        print(string)\n",
    "        \n",
    "def binary_search_calldata(guessPrev, guessHigh, l1Calldata, l2Calldata, \n",
    "                          top_depth = 50, verbose = True):\n",
    "    depth = 0\n",
    "    search = True\n",
    "    largest_spread = 1e12\n",
    "    \n",
    "    while search:     \n",
    "        guessMid = (guessPrev + guessHigh) / 2\n",
    "        \n",
    "        l1Calldata['swapIn'] = guessMid\n",
    "        l2Calldata['swapIn'] = guessMid\n",
    "\n",
    "        l1AmtOut, l1Values = eth.swapIn(l1Calldata)\n",
    "        l2AmtOut, l2Values = arb.swapIn(l2Calldata)\n",
    "        \n",
    "        l2AdjAmtOut = l2AmtOut - l2Gas\n",
    "        l1AdjAmtOut = l1AmtOut - l1Gas\n",
    "        spr = (l1AdjAmtOut - l2AdjAmtOut)\n",
    "        \n",
    "        (firstL1, secondL1, _) = l1Values\n",
    "        \n",
    "        (firstL2, secondL2, _) = l2Values\n",
    "        if spr < -1 * largest_spread:\n",
    "            verbose_print(f\"Search low - New grid of {guessMid} to {guessHigh}\", verbose)\n",
    "            \n",
    "            intPartMid = math.modf(guessMid)[1]\n",
    "            intPartHigh = math.modf(guessHigh)[1]\n",
    "            if intPartMid == intPartHigh:\n",
    "                return (guessMid, l1Gas, l2Gas, l1AmtOut, l2AmtOut, (firstL1, secondL1), (firstL2, secondL2))\n",
    "            \n",
    "            guessPrev, guessHigh = guessMid, guessHigh\n",
    "\n",
    "        elif spr > largest_spread:\n",
    "            verbose_print(f\"Search high - New grid of {guessPrev} to {guessMid}\", verbose)\n",
    "            \n",
    "            intPartMid = math.modf(guessMid)[1]\n",
    "            intPartPrev = math.modf(guessPrev)[1]\n",
    "            if intPartMid == intPartPrev:\n",
    "                return (guessMid, l1Gas, l2Gas, l1AmtOut, l2AmtOut, (firstL1, secondL1), (firstL2, secondL2))\n",
    "            \n",
    "            guessPrev, guessHigh = guessPrev, guessMid\n",
    "            \n",
    "        else:\n",
    "            search = False\n",
    "            verbose_print(f\"Found price at {guessMid} with spr {spr}\", verbose)\n",
    "            (firstL1, secondL1, _) = l1Values\n",
    "            (firstL2, secondL2, _) = l2Values\n",
    "            \n",
    "            return (guessMid, l1Gas, l2Gas, l1AmtOut, l2AmtOut, (firstL1, secondL1), (firstL2, secondL2))\n",
    "        \n",
    "        depth+=1\n",
    "        if depth > top_depth:\n",
    "            raise ValueError(\"Reached maximum depth\")"
   ]
  },
  {
   "cell_type": "code",
   "execution_count": 27,
   "id": "e261436d",
   "metadata": {
    "scrolled": true
   },
   "outputs": [
    {
     "name": "stderr",
     "output_type": "stream",
     "text": [
      "100%|███████████████████████████████████| 35447/35447 [7:40:21<00:00,  1.28it/s]\n"
     ]
    }
   ],
   "source": [
    "data = []\n",
    "\n",
    "l1Calldata = {'as_of': 0,\n",
    "            'tokenIn': tokenNotWETH(eth, WETH),\n",
    "            'swapIn': 0,\n",
    "            'findMax': False,\n",
    "             'forceHardShift': True}\n",
    "\n",
    "    \n",
    "l2Calldata = {'as_of': 0,\n",
    "            'tokenIn': tokenNotWETH(arb, WETH),\n",
    "            'swapIn': 0,\n",
    "            'findMax': False,\n",
    "             'forceHardShift': True}\n",
    "\n",
    "\n",
    "medianL2Gas = priceArb['gas_price'].median()\n",
    "medianL2GasUsed = priceArb['gas_used'].median()\n",
    "\n",
    "medianL1Gas = priceEth['gas_price'].median()\n",
    "medianL1GasUsed = priceEth['gas_used'].median()\n",
    "\n",
    "iterator = [*priceArb.iter_rows()] #unpack that shit\n",
    "for (ts, l2BN, _, gas_price, gas_used) in tqdm(iterator):\n",
    "    startingAmtIn = 1e6\n",
    "    ethRow = priceEth.filter(pl.col('block_timestamp') == ts)\n",
    "    \n",
    "    if ts >= pd.to_datetime(\"2024-01-01\").to_pydatetime().replace(tzinfo = timezone.utc):\n",
    "        continue\n",
    "\n",
    "    if ethRow.is_empty():\n",
    "        continue\n",
    "        \n",
    "    if gas_price == None:\n",
    "        continue\n",
    "    # -----\n",
    "\n",
    "    l2Gas = medianL2Gas * medianL2GasUsed\n",
    "\n",
    "    l2Calldata['as_of'] = l2BN\n",
    "    l2Calldata['swapIn'] = startingAmtIn\n",
    "\n",
    "    try:\n",
    "        l2AmtOut, l2Values = arb.swapIn(l2Calldata)\n",
    "    except Exception as e:\n",
    "        print(f\"Hit exception on L2 {e}\")\n",
    "        continue \n",
    "    # -----\n",
    "\n",
    "    l1BN = ethRow['block_number'].item()\n",
    "    l1Gas = (medianL1Gas * medianL1GasUsed)#.item()\n",
    "\n",
    "    l1Calldata['as_of'] = l1BN\n",
    "    l1Calldata['swapIn'] = startingAmtIn\n",
    "\n",
    "    try:\n",
    "        l1AmtOut, l1Values = eth.swapIn(l1Calldata)\n",
    "    except Exception as e:\n",
    "        print(f\"Hit exception on L1 {e}\")\n",
    "        continue\n",
    "\n",
    "    # -----\n",
    "\n",
    "    l2AdjAmtOut = l2AmtOut - l2Gas\n",
    "    l1AdjAmtOut = l1AmtOut - l1Gas\n",
    "\n",
    "    if l2AdjAmtOut < l1AdjAmtOut:\n",
    "        print(f'No value greater at {ts}')\n",
    "        continue\n",
    "\n",
    "    # search for the bounds\n",
    "    searching = True\n",
    "    while searching:\n",
    "        prevAmtIn = startingAmtIn\n",
    "        startingAmtIn *= 1.5\n",
    "        l1Calldata['swapIn'] = startingAmtIn\n",
    "        l2Calldata['swapIn'] = startingAmtIn\n",
    "\n",
    "        l1AmtOut, _ = eth.swapIn(l1Calldata)\n",
    "        l2AmtOut, _ = arb.swapIn(l2Calldata)\n",
    "\n",
    "        l2AdjAmtOut = l2AmtOut - l2Gas\n",
    "        l1AdjAmtOut = l1AmtOut - l1Gas\n",
    "\n",
    "        if l1AdjAmtOut > l2AdjAmtOut:\n",
    "             searching = False\n",
    "\n",
    "\n",
    "    (amtOut, l1Gas, l2Gas, l1AmtOut, l2AmtOut, l1Values, l2Values) = binary_search_calldata(prevAmtIn, startingAmtIn, l1Calldata, l2Calldata, verbose = False)\n",
    "    \n",
    "    # send it\n",
    "    data.append([ts, amtOut, l1Gas, l2Gas, l1AmtOut, l2AmtOut, l1Values, l2Values])"
   ]
  },
  {
   "cell_type": "code",
   "execution_count": 28,
   "id": "e4e9ebf7",
   "metadata": {},
   "outputs": [],
   "source": [
    "data_cleaned = []\n",
    "for row in data:\n",
    "    entry = []\n",
    "    entry.extend([row[i] for i in range(0, 5 + 1)])\n",
    "        \n",
    "    (l1Before, l1After) = row[6]\n",
    "    (l2Before, l2After) = row[7]\n",
    "    entry.append(l1Before)\n",
    "    entry.append(l1After)\n",
    "    entry.append(l2Before)\n",
    "    entry.append(l2After)\n",
    "    \n",
    "    data_cleaned.append(entry)"
   ]
  },
  {
   "cell_type": "code",
   "execution_count": 29,
   "id": "ef6282f2",
   "metadata": {},
   "outputs": [],
   "source": [
    "path = \"data/arb_breakeven_setgas.csv\"\n",
    "df = (pl.DataFrame(data_cleaned, schema = ['date', 'cost', 'l1Gas', 'l2Gas', 'l1AmtOut', \n",
    "                                   'l2AmtOut', 'l1Before', 'l1After', 'l2Before', 'l2After'])\n",
    "      .with_columns(chain = pl.lit('arb'))\n",
    "     )\n",
    "\n",
    "df.write_csv(path)"
   ]
  },
  {
   "cell_type": "code",
   "execution_count": 30,
   "id": "0086dda9",
   "metadata": {},
   "outputs": [],
   "source": [
    "df = (pl.read_csv(path)\n",
    "      .with_columns(l1PriceImpact = (pl.col('l1Before') ** 2 - pl.col('l1After') ** 2) / pl.col('l1After') ** 2,\n",
    "                    l2PriceImpact = (pl.col('l2Before') ** 2 - pl.col('l2After') ** 2) / pl.col('l2After') ** 2,\n",
    "                    gasCostDifference = (pl.col('l1Gas') - pl.col('l2Gas')) ,\n",
    "                    ethPrice = (1 / (pl.col('l1Before') ** 2) * 1e12),\n",
    "                    amtInDifference = (pl.col('l1AmtOut') - pl.col('l2AmtOut')))\n",
    "      .with_columns(priceImpactSpr = -1 * (pl.col('l1PriceImpact') - pl.col('l2PriceImpact')) / pl.col('l2PriceImpact'))\n",
    "     )"
   ]
  },
  {
   "cell_type": "code",
   "execution_count": 31,
   "id": "dadddb24",
   "metadata": {},
   "outputs": [
    {
     "name": "stdout",
     "output_type": "stream",
     "text": [
      "68172.86$\n"
     ]
    }
   ],
   "source": [
    "median_cost = df.select(pl.median('cost')).item() / 1e6\n",
    "print(f'{median_cost:.2f}$')"
   ]
  },
  {
   "cell_type": "code",
   "execution_count": 32,
   "id": "1e50b631",
   "metadata": {},
   "outputs": [],
   "source": [
    "costs = (\n",
    "        df\n",
    "        .with_columns(adjCost = pl.col('cost') / 1e6 / 1e3,\n",
    "                      adjAmtInDifference = pl.col('amtInDifference') / 1e18 * (1 / (pl.col('l1Before') ** 2) * 1e12))\n",
    "        .select('date', 'adjCost', 'adjAmtInDifference', 'priceImpactSpr', 'gasCostDifference')\n",
    "        .with_columns(date = pl.col(\"date\").str.to_datetime())\n",
    "        .sort('date')\n",
    "        .group_by_dynamic(\"date\", every = '1d')\n",
    "        .agg(pl.col('adjCost').quantile(.5),\n",
    "             pl.col('adjAmtInDifference').quantile(.5),\n",
    "             pl.col('priceImpactSpr').quantile(.5),\n",
    "             pl.col('gasCostDifference').quantile(.5))\n",
    "        .with_columns(adjCost=pl.col(\"adjCost\").rolling_mean(window_size=7),\n",
    "                      adjAmtInDifference=pl.col(\"adjAmtInDifference\").rolling_mean(window_size=7),\n",
    "                      priceImpactSpr=pl.col(\"priceImpactSpr\").rolling_mean(window_size=7),\n",
    "                     gasCostDifference=pl.col('gasCostDifference').rolling_mean(window_size=7))\n",
    "        )"
   ]
  },
  {
   "cell_type": "code",
   "execution_count": 33,
   "id": "8eed4b9a",
   "metadata": {},
   "outputs": [],
   "source": [
    "costs.write_csv(\"graphs/data/breakeven_setgas.csv\")"
   ]
  }
 ],
 "metadata": {
  "kernelspec": {
   "display_name": "Python 3 (ipykernel)",
   "language": "python",
   "name": "python3"
  },
  "language_info": {
   "codemirror_mode": {
    "name": "ipython",
    "version": 3
   },
   "file_extension": ".py",
   "mimetype": "text/x-python",
   "name": "python",
   "nbconvert_exporter": "python",
   "pygments_lexer": "ipython3",
   "version": "3.11.4"
  }
 },
 "nbformat": 4,
 "nbformat_minor": 5
}
